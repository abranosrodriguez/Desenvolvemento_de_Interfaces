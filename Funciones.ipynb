{
 "cells": [
  {
   "cell_type": "markdown",
   "id": "b0573873-cf79-4e25-8404-3ca14e714cc5",
   "metadata": {},
   "source": [
    "## Funciones"
   ]
  },
  {
   "cell_type": "raw",
   "id": "eaf8132c-fbfe-44fe-af18-4582cbb1170e",
   "metadata": {},
   "source": [
    "Codifica un programa “Loterías” que conteña un menú que acceda as seguintes funcións:\n",
    "1. Un xerador de apostas da primitiva (6 números entre 1 e 49 máis o complementario entre 1 e o 9).\n",
    "2. Xerador de Euromillóns (5 números entre 1 e 50 máis dous números “estrela” entre 1 e 9).\n",
    "3. Un xerador de apostas da quiniela de fútbol, 15 resultados entre 1,X,2.\n",
    "4. Un xerador de Lotería nacional. Un número entre o 00000 e o \n",
    "99999.\n",
    "Valorarase que o menú sexa outra función"
   ]
  },
  {
   "cell_type": "code",
   "execution_count": 193,
   "id": "4762b50c-b781-4705-a1ee-41c462709781",
   "metadata": {
    "tags": []
   },
   "outputs": [
    {
     "name": "stdout",
     "output_type": "stream",
     "text": [
      "1 - Loterial Primitiva\n",
      "2 - Loteria Euromillon\n",
      "3 - Loteria Quiniela\n",
      "4 - Loteria Nacional\n"
     ]
    },
    {
     "name": "stdin",
     "output_type": "stream",
     "text": [
      "Escoge una opcion: 2\n"
     ]
    },
    {
     "name": "stdout",
     "output_type": "stream",
     "text": [
      "La combinacion ganadora en el euromillon es el:  [13, 21, 31, 40, 15, 7, 8]\n",
      "1 - Loterial Primitiva\n",
      "2 - Loteria Euromillon\n",
      "3 - Loteria Quiniela\n",
      "4 - Loteria Nacional\n"
     ]
    },
    {
     "name": "stdin",
     "output_type": "stream",
     "text": [
      "Escoge una opcion: 1\n"
     ]
    },
    {
     "name": "stdout",
     "output_type": "stream",
     "text": [
      "La combinacion ganadora en la primtiva es el :  [41, 15, 4, 20, 42, 25, 4]\n",
      "1 - Loterial Primitiva\n",
      "2 - Loteria Euromillon\n",
      "3 - Loteria Quiniela\n",
      "4 - Loteria Nacional\n"
     ]
    },
    {
     "name": "stdin",
     "output_type": "stream",
     "text": [
      "Escoge una opcion: 4\n"
     ]
    },
    {
     "name": "stdout",
     "output_type": "stream",
     "text": [
      "Numero: 59311\n",
      "1 - Loterial Primitiva\n",
      "2 - Loteria Euromillon\n",
      "3 - Loteria Quiniela\n",
      "4 - Loteria Nacional\n"
     ]
    },
    {
     "name": "stdin",
     "output_type": "stream",
     "text": [
      "Escoge una opcion: 3\n"
     ]
    },
    {
     "name": "stdout",
     "output_type": "stream",
     "text": [
      "Partido 1 : 2\n",
      "Partido 2 : 2\n",
      "Partido 3 : 2\n",
      "Partido 4 : X\n",
      "Partido 5 : 1\n",
      "Partido 6 : 1\n",
      "Partido 7 : 1\n",
      "Partido 8 : X\n",
      "Partido 9 : 2\n",
      "Partido 10 : 1\n",
      "Partido 11 : 1\n",
      "Partido 12 : 2\n",
      "Partido 13 : 1\n",
      "Partido 14 : 2\n",
      "Partido 15 : 1\n",
      "1 - Loterial Primitiva\n",
      "2 - Loteria Euromillon\n",
      "3 - Loteria Quiniela\n",
      "4 - Loteria Nacional\n"
     ]
    },
    {
     "name": "stdin",
     "output_type": "stream",
     "text": [
      "Escoge una opcion: 5\n"
     ]
    }
   ],
   "source": [
    "import random\n",
    "\n",
    "def primitiva():\n",
    "    nPrimitiva = random.sample(range(1,50),6)\n",
    "    nComplementario = random.sample(range(1,10),1)\n",
    "    combinacionGanadora = nPrimitiva + nComplementario\n",
    "    print(\"La combinacion ganadora en la primtiva es el : \",combinacionGanadora)\n",
    "    \n",
    "def euromillons():\n",
    "    nEuromillons = random.sample(range(1,51),5)\n",
    "    nEstrela = random.sample(range(1,10),2)\n",
    "    combinacionGanadora = nEuromillons + nEstrela\n",
    "    print(\"La combinacion ganadora en el euromillon es el: \",combinacionGanadora)\n",
    "\n",
    "def quiniela():\n",
    "    nQuiniela = [random.choice(['1','X','2']) for _ in range(15)]\n",
    "    for i, resultado in enumerate(nQuiniela, start=1):\n",
    "        print(\"Partido\",i ,\":\",resultado)\n",
    "        \n",
    "def nacional():\n",
    "    nNacional = random.randint(0,99999)\n",
    "    print(\"Numero:\",nNacional)\n",
    "\n",
    "menu = 0\n",
    "while menu != 5:\n",
    "    print(\"1 - Loterial Primitiva\")\n",
    "    print(\"2 - Loteria Euromillon\")\n",
    "    print(\"3 - Loteria Quiniela\")\n",
    "    print(\"4 - Loteria Nacional\")\n",
    "    menu = int(input(\"Escoge una opcion:\"))\n",
    "    if(menu == 1):\n",
    "        primitiva()\n",
    "    elif(menu == 2):\n",
    "        euromillons()\n",
    "    elif(menu == 3):\n",
    "        quiniela()\n",
    "    elif(menu == 4):\n",
    "        nacional()\n",
    "    else:\n",
    "        break\n",
    "        "
   ]
  },
  {
   "cell_type": "code",
   "execution_count": null,
   "id": "7e6910d6-45ce-433c-adbb-b2b1b06fa17e",
   "metadata": {},
   "outputs": [],
   "source": []
  },
  {
   "cell_type": "code",
   "execution_count": null,
   "id": "06a547a5-9fe1-4ab6-a34d-5012e7701265",
   "metadata": {},
   "outputs": [],
   "source": []
  }
 ],
 "metadata": {
  "kernelspec": {
   "display_name": "Python 3 (ipykernel)",
   "language": "python",
   "name": "python3"
  },
  "language_info": {
   "codemirror_mode": {
    "name": "ipython",
    "version": 3
   },
   "file_extension": ".py",
   "mimetype": "text/x-python",
   "name": "python",
   "nbconvert_exporter": "python",
   "pygments_lexer": "ipython3",
   "version": "3.11.3"
  }
 },
 "nbformat": 4,
 "nbformat_minor": 5
}
