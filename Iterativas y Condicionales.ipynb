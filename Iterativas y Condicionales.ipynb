{
 "cells": [
  {
   "cell_type": "markdown",
   "id": "1311f5ee-ae7d-422f-af1f-40605b1bca61",
   "metadata": {},
   "source": [
    "## Bloque 2 de Ejercicios Python. Condicionales e iterativas"
   ]
  },
  {
   "cell_type": "markdown",
   "id": "9828525a-8b0c-4bd4-97ed-fb2b538e7459",
   "metadata": {},
   "source": [
    "<i> by Adrian Braños Rodriguez </i>"
   ]
  },
  {
   "cell_type": "raw",
   "id": "b052e84c-c415-4957-b550-297cb75ce75f",
   "metadata": {},
   "source": [
    "A conxetura de Collatz indica que calquera\n",
    "número natural pode transformarse en 1\n",
    "aplicando os pasos seguintes: si é par, dividir por\n",
    "2, se é impar multiplicar por 3 e sumarlle 1.\n",
    "Codifica un programa que pedindo un número\n",
    "mostre toda a sucesión de números resultantes\n",
    "ata convertilo en 1."
   ]
  },
  {
   "cell_type": "code",
   "execution_count": 10,
   "id": "a34aea32-fe2f-4e27-9106-67d095d7f0a5",
   "metadata": {
    "tags": []
   },
   "outputs": [
    {
     "name": "stdin",
     "output_type": "stream",
     "text": [
      "Dime un numero:  10\n"
     ]
    },
    {
     "name": "stdout",
     "output_type": "stream",
     "text": [
      "5  - 16  - 8  - 4  - 2  - 1  - "
     ]
    }
   ],
   "source": [
    "x = float(input(\"Dime un numero: \"))\n",
    "while (x > 1):\n",
    "    if(x%2==0):\n",
    "        x = x/2\n",
    "    else:\n",
    "        x = 3*x+1\n",
    "    print(int(x),\" - \",end=\"\")"
   ]
  },
  {
   "cell_type": "raw",
   "id": "a9d3068a-06eb-4c65-bad5-032e64b24e98",
   "metadata": {},
   "source": [
    "Mastermind é un xogo que consiste en adiviñar un número.\n",
    "Codifica un programa que xenere un número entero\n",
    "aleatorio entre 1 e 100. A continuación iranos pedindo que\n",
    "adiviñemos o número. A axuda do programa será que si\n",
    "erramos diranos que o número que indicamos é maior ou\n",
    "menor que o que número aleatorio. Deberás incluir o\n",
    "número de intentos ao final da execución do programa.\n",
    "Ademáis, propoñer o programa para dous xogadores, e\n",
    "quen é o vencedor."
   ]
  },
  {
   "cell_type": "code",
   "execution_count": 40,
   "id": "f2691635-d2ab-4f3d-b8a7-432efa8569d9",
   "metadata": {
    "tags": []
   },
   "outputs": [
    {
     "name": "stdout",
     "output_type": "stream",
     "text": [
      "0.0\n",
      "El numero aleatorio es:  86.0\n",
      "Empieza el jugador A\n"
     ]
    },
    {
     "name": "stdin",
     "output_type": "stream",
     "text": [
      "Cual piensas que es el numero? 64\n"
     ]
    },
    {
     "name": "stdout",
     "output_type": "stream",
     "text": [
      "El numero es mayor\n",
      "Has fallado jugador A, el numero es mayor\n",
      "Empieza el jugador B\n"
     ]
    },
    {
     "name": "stdin",
     "output_type": "stream",
     "text": [
      "Cual piensas que es el numero? 67\n"
     ]
    },
    {
     "name": "stdout",
     "output_type": "stream",
     "text": [
      "El numero es mayor\n",
      "Has fallado jugador B, el numero es mayor\n",
      "Empieza el jugador A\n"
     ]
    },
    {
     "name": "stdin",
     "output_type": "stream",
     "text": [
      "Cual piensas que es el numero? 86\n"
     ]
    },
    {
     "name": "stdout",
     "output_type": "stream",
     "text": [
      "Has acertado el numero, la cantidad de intentos han sido 1\n"
     ]
    }
   ],
   "source": [
    "import random\n",
    "numeroAleatorio = float(random.randrange(101))\n",
    "dado = float(random.randrange(2))\n",
    "intentos_jugador_a = 0\n",
    "intentos_jugador_b = 0\n",
    "print(dado)\n",
    "intentos = 0\n",
    "print(\"El numero aleatorio es: \", numeroAleatorio)\n",
    "while (numero != numeroAleatorio):\n",
    "    \n",
    "    if(dado == 0):\n",
    "        print(\"Empieza el jugador A\")\n",
    "        numero = float(input(\"Cual piensas que es el numero?\"))\n",
    "        if(numeroAleatorio == numero):\n",
    "            print(f\"Has acertado el numero, la cantidad de intentos han sido {intentos_jugador_a}\")\n",
    "        else:\n",
    "            dado = 1\n",
    "            intentos_jugador_a = intentos_jugador_a + 1\n",
    "            if(numeroAleatorio < numero):\n",
    "                print(\"Has fallado jugador A, el numero es menor\")\n",
    "            else:\n",
    "                print(\"El numero es mayor\")\n",
    "            print(\"Has fallado jugador A, el numero es mayor\")\n",
    "                  \n",
    "    if(dado == 1):\n",
    "        print(\"Empieza el jugador B\")\n",
    "        numero = float(input(\"Cual piensas que es el numero?\"))\n",
    "        if(numeroAleatorio == numero):\n",
    "            print(f\"Has acertado el numero, la cantidad de intentos han sido {intentos_jugador_b}\")\n",
    "        else:\n",
    "            dado = 0\n",
    "            intentos_jugador_b = intentos_jugador_b + 1\n",
    "            if(numeroAleatorio < numero):\n",
    "                print(\"Has fallado jugador B, el numero es menor\")\n",
    "            else:\n",
    "                print(\"El numero es mayor\")\n",
    "            print(\"Has fallado jugador B, el numero es mayor\")\n",
    "               "
   ]
  },
  {
   "cell_type": "raw",
   "id": "ffa1daf1-c26a-47be-b54e-eb7dcde2669a",
   "metadata": {},
   "source": [
    "Algoritmo de Luhn.- Una tarjeta de crédito, o una tarjeta SIM, si suma de la reversa de los números pares x\n",
    "2 con la reversa de los números impares es un número acabado en 0. Ejemplo:\n",
    "- Número de ejemplo: 4 9 9 2 7 3 9 8 7 1 6\n",
    "- Se multiplica por 2 los dígitos que ocupan las posiciones pares empezando por el final:\n",
    "(1×2) = 2, (8×2) = 16, (3×2) = 6, (2×2) = 4, (9×2) = 18\n",
    "- Se suman los dígitos que ocupan las posiciones impares con los dígitos de los productos obtenidos:\n",
    "6 + (2) + 7 + (1+6) + 9 + (6) + 7 + (4) + 9 + (1+8) + 4 = 70.\n",
    "(1+6) es por la multiplicación de 8x2 y (1+8) es por la multiplicación de 9x2 del primer punto\n",
    "- Al ser 70, acabada en 0, es válido: 70 mod 10 = 0"
   ]
  },
  {
   "cell_type": "code",
   "execution_count": 91,
   "id": "3f2236ee-7ae5-4caa-be33-5ef35d5cbb52",
   "metadata": {
    "tags": []
   },
   "outputs": [
    {
     "name": "stdin",
     "output_type": "stream",
     "text": [
      "Introduce el numero de tu tarjeta 49927398716\n"
     ]
    },
    {
     "name": "stdout",
     "output_type": "stream",
     "text": [
      "70\n"
     ]
    }
   ],
   "source": [
    "cardNumber=input(\"Introduce el numero de tu tarjeta\")\n",
    "total=0\n",
    "posicion=1\n",
    "for number in reversed(cardNumber):\n",
    "    #print(number)\n",
    "    number1=int(number)\n",
    "    if posicion%2==0:\n",
    "        number1=number1*2\n",
    "        if number1>9:\n",
    "            number1= number1%10\n",
    "            total+=1\n",
    "    total+=number1\n",
    "    posicion+=1\n",
    "print(total)\n",
    "\n"
   ]
  },
  {
   "cell_type": "code",
   "execution_count": 94,
   "id": "f7f56f5b-f519-4cbe-b4de-0e998446a54e",
   "metadata": {
    "tags": []
   },
   "outputs": [
    {
     "name": "stdin",
     "output_type": "stream",
     "text": [
      "Numero de la tarjeta:  49927398716\n"
     ]
    },
    {
     "name": "stdout",
     "output_type": "stream",
     "text": [
      "49927398716\n",
      "61789372994\n",
      "Aplicando el algoritmo de Luhn da:  70\n",
      "El resultado acaba en 0, por lo tanto es correcto.\n"
     ]
    }
   ],
   "source": [
    "numero = input(\"Numero de la tarjeta: \")\n",
    "print(numero)\n",
    "longitud = len(numero)\n",
    "numero_invertido = numero[::-1]\n",
    "print(numero_invertido)\n",
    "\n",
    "i=0\n",
    "resultado=0\n",
    "\n",
    "while i<longitud:\n",
    "    if i%2==0:\n",
    "        resultado+=int(numero_invertido[i])\n",
    "    else:\n",
    "        numpar = int(numero_invertido[i])*2\n",
    "        if numpar>9:\n",
    "            resultado+=numpar//10+numpar%10\n",
    "        else:\n",
    "            resultado+=numpar\n",
    "    i+=1\n",
    "\n",
    "print(\"Aplicando el algoritmo de Luhn da: \", resultado)\n",
    "if resultado%10==0:\n",
    "    print(\"El resultado acaba en 0, por lo tanto es correcto.\")\n",
    "else:\n",
    "    print(\"El resultado no acaba en 0, por lo tanto es incorrecto.\")\n"
   ]
  },
  {
   "cell_type": "code",
   "execution_count": null,
   "id": "e3a31592-a695-4aa2-a226-c3478d1b36f7",
   "metadata": {},
   "outputs": [],
   "source": []
  }
 ],
 "metadata": {
  "kernelspec": {
   "display_name": "Python 3 (ipykernel)",
   "language": "python",
   "name": "python3"
  },
  "language_info": {
   "codemirror_mode": {
    "name": "ipython",
    "version": 3
   },
   "file_extension": ".py",
   "mimetype": "text/x-python",
   "name": "python",
   "nbconvert_exporter": "python",
   "pygments_lexer": "ipython3",
   "version": "3.11.3"
  }
 },
 "nbformat": 4,
 "nbformat_minor": 5
}
