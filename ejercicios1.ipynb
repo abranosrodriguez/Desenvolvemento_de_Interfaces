{
 "cells": [
  {
   "cell_type": "markdown",
   "id": "f219f2ff-fa7c-44af-8d63-5128992be384",
   "metadata": {},
   "source": [
    " ## <b> Primero Ejercicios Python</b>"
   ]
  },
  {
   "cell_type": "markdown",
   "id": "db61f209-765d-497a-9e1b-56da85a8cd4a",
   "metadata": {},
   "source": [
    "<i>by Adrian Braños Rodriguez </i>"
   ]
  },
  {
   "cell_type": "raw",
   "id": "032c3d17-1570-4b66-aac8-825fed503e12",
   "metadata": {},
   "source": [
    "1. Escribir un programa que pregunte ao usuario polo\n",
    "número de horas traballadas e o coste por hora en € con\n",
    "dous decimais. Despois debe mostrar por pantalla a paga\n",
    "que lle corresponde na mesma condición."
   ]
  },
  {
   "cell_type": "code",
   "execution_count": 1,
   "id": "a65ffcad-fac4-4798-a089-142f55b0f5c8",
   "metadata": {
    "tags": []
   },
   "outputs": [
    {
     "name": "stdin",
     "output_type": "stream",
     "text": [
      "Dime cuantas horas trabajaste:  10\n",
      "Precio por horas extras:  6\n"
     ]
    },
    {
     "name": "stdout",
     "output_type": "stream",
     "text": [
      "60.0\n"
     ]
    }
   ],
   "source": [
    "horas = float(input(\"Dime cuantas horas trabajaste: \"))\n",
    "coste = float(input(\"Precio por horas extras: \"))\n",
    "paga = (horas*coste)\n",
    "print(paga)"
   ]
  },
  {
   "cell_type": "raw",
   "id": "cc196f95-dda7-497b-95e5-af8cdfb70b78",
   "metadata": {},
   "source": [
    "2. Dados unha cifra en segundos fai a\n",
    "transformación en horas, minutos e\n",
    "segundos. Repite o exercicio de\n",
    "forma inversa, dada unha cifra en\n",
    "horas, minutos e segundos,\n",
    "transforma en segundos."
   ]
  },
  {
   "cell_type": "code",
   "execution_count": 20,
   "id": "1bb8dde8-6a00-408d-95b4-a32c0757d6e5",
   "metadata": {
    "tags": []
   },
   "outputs": [
    {
     "name": "stdin",
     "output_type": "stream",
     "text": [
      "Dime cuantos segundos so a minutos y horas 10\n"
     ]
    },
    {
     "name": "stdout",
     "output_type": "stream",
     "text": [
      "Los segundos a minutos son:  0.16666666666666666 minutos\n",
      "Los segundos a horas son:  0.002777777777777778 horas\n"
     ]
    },
    {
     "name": "stdin",
     "output_type": "stream",
     "text": [
      "Dime cuantas horas sona minutos y segundos 1\n"
     ]
    },
    {
     "name": "stdout",
     "output_type": "stream",
     "text": [
      "Las horas a minutos son:  60.0 minutos\n",
      "Las horas a segundos son:  3600.0 segundos\n"
     ]
    }
   ],
   "source": [
    "valor_segundos = float(input(\"Dime cuantos segundos so a minutos y horas\"))\n",
    "segundos_a_minutos = valor_segundos/float(60)\n",
    "segundos_a_horas = valor_segundos/(float(60)*float(60))\n",
    "print(\"Los segundos a minutos son: \", segundos_a_minutos, \"minutos\")\n",
    "print(\"Los segundos a horas son: \", segundos_a_horas, \"horas\")\n",
    "\n",
    "valor_horas = float(input(\"Dime cuantas horas sona minutos y segundos\"))\n",
    "horas_a_minutos = valor_horas*float(60)\n",
    "horas_a_segundos = valor_horas*(float(60)*float(60))\n",
    "print(\"Las horas a minutos son: \", horas_a_minutos, \"minutos\")\n",
    "print(\"Las horas a segundos son: \", horas_a_segundos, \"segundos\")\n"
   ]
  },
  {
   "cell_type": "raw",
   "id": "560dda75-4715-4c97-a754-7b73c4f7fe82",
   "metadata": {},
   "source": [
    "3. Escribir un programa que lle pida ao usuario seu peso (en\n",
    "kg) e estatura (en metros), calcule o índice de masa\n",
    "corporal e o almacene nunha variable <imc> mostrando\n",
    "por pantalla a frase: Teu índice de masa corporal é <imc>,\n",
    "con dos decimales.\n",
    "Fórmula: imc = peso/estatura2"
   ]
  },
  {
   "cell_type": "code",
   "execution_count": 25,
   "id": "1e796138-db62-43bb-87df-4a487f1b5c00",
   "metadata": {
    "tags": []
   },
   "outputs": [
    {
     "name": "stdin",
     "output_type": "stream",
     "text": [
      "Dime tu peso: 50\n",
      "Dime tu estatura 1.75\n"
     ]
    },
    {
     "name": "stdout",
     "output_type": "stream",
     "text": [
      "Tu indice de imc es:  16.3265306122449\n"
     ]
    }
   ],
   "source": [
    "peso=float(input(\"Dime tu peso:\"))\n",
    "estatura=float(input(\"Dime tu estatura\"))\n",
    "imc=peso/pow(estatura,2)\n",
    "print(\"Tu indice de imc es: \",imc)"
   ]
  },
  {
   "cell_type": "raw",
   "id": "efbdacde-0b20-45bd-a66c-8793f17587aa",
   "metadata": {},
   "source": [
    "4. Escribe un programa que solicite la fecha de\n",
    "nacimiento de un usuario y calcule su edad actual"
   ]
  },
  {
   "cell_type": "code",
   "execution_count": 12,
   "id": "5200ce18-974e-433b-8a71-0bf78d266b8b",
   "metadata": {
    "tags": []
   },
   "outputs": [
    {
     "name": "stdin",
     "output_type": "stream",
     "text": [
      "Dime que dia naciste 16\n",
      "Dia que mes naciste 10\n",
      "Dia que año naciste 1986\n"
     ]
    },
    {
     "name": "stdout",
     "output_type": "stream",
     "text": [
      "Tienes 36 años, con -1 meses, y 2 dias\n"
     ]
    }
   ],
   "source": [
    "dia = int(input(\"Dime que dia naciste\"))\n",
    "mes = int(input(\"Dia que mes naciste\"))\n",
    "ano = int(input(\"Dia que año naciste\"))\n",
    "#print(dia,mes,ano)\n",
    "\n",
    "from datetime import datetime\n",
    "now = datetime.now()\n",
    "ano_actual = int(now.year)\n",
    "mes_actual = now.month\n",
    "dia_actual = now.day\n",
    "#print(dia_actual,mes_actual,ano_actual)\n",
    "anitos = ano_actual-ano\n",
    "mesitos = mes_actual-mes\n",
    "diasitos = dia_actual-dia\n",
    "\n",
    "if mesitos <=-1 or diasitos <=-1:\n",
    "    anitos = anitos-1\n",
    "print(\"Tienes\", anitos, \"años, con\", mesitos, \"meses, y\", diasitos, \"dias\")"
   ]
  },
  {
   "cell_type": "raw",
   "id": "0db6052b-4a99-4dc5-acc3-756cd97e1c11",
   "metadata": {},
   "source": [
    "5. Dado el radio de una circunferencia calcula su perímetro y\n",
    "área.\n",
    "Usad función math para usar pi\n",
    "\n",
    "area = π x R²\n",
    "perimetro = 2 x π x R."
   ]
  },
  {
   "cell_type": "code",
   "execution_count": 18,
   "id": "151036eb-f466-4643-b292-26d52930c25d",
   "metadata": {
    "tags": []
   },
   "outputs": [
    {
     "name": "stdin",
     "output_type": "stream",
     "text": [
      "Dame el radio que quieres calcular:  1\n"
     ]
    },
    {
     "name": "stdout",
     "output_type": "stream",
     "text": [
      "El area es :  3.141592653589793\n",
      "El perímetro es : 6.283185307179586\n"
     ]
    }
   ],
   "source": [
    "radio = float(input(\"Dame el radio que quieres calcular: \"))\n",
    "import math\n",
    "area = math.pi * radio\n",
    "perimetro = 2 * math.pi * radio\n",
    "print(\"El area es : \",area)\n",
    "print(\"El perímetro es :\", perimetro)\n",
    "\n"
   ]
  },
  {
   "cell_type": "raw",
   "id": "607e88af-3b70-491d-94f6-36bbadba04c3",
   "metadata": {},
   "source": [
    "6. Introduzca una palabra de más de 9 letras por teclado e\n",
    "imprima:\n",
    "- las tres primeras letras\n",
    "- las tres últimas letras\n",
    "- las situadas entre la 4º y 7º posición"
   ]
  },
  {
   "cell_type": "code",
   "execution_count": 46,
   "id": "62e051b8-5bf8-4865-8c78-47eaabd7347b",
   "metadata": {
    "tags": []
   },
   "outputs": [
    {
     "name": "stdin",
     "output_type": "stream",
     "text": [
      "Dame un palabra de mas de 9 letras abracadabra\n"
     ]
    },
    {
     "name": "stdout",
     "output_type": "stream",
     "text": [
      "Los primeros caracteres eran : abr\n",
      "Los últimos caracteres era :  bra\n",
      "La letra que está en la posición 4 es : a ,y la letra que está en la posicion 7 es la letra:  d\n"
     ]
    }
   ],
   "source": [
    "\n",
    "palabra = input(\"Dame un palabra de mas de 9 letras\")\n",
    "if len(palabra) <9:\n",
    "    print(\"ERROR - La palabra introducida es menor a 9\")\n",
    "\n",
    "tres_letras = palabra[0:3]\n",
    "print(\"Los primeros caracteres eran :\",tres_letras)\n",
    "ultimas_letras = palabra[-3:]\n",
    "print(\"Los últimos caracteres era : \",ultimas_letras)\n",
    "posiciones_4 = palabra[3]\n",
    "posiciones_7 = palabra[6]\n",
    "print(\"La letra que está en la posición 4 es :\", posiciones_4, \",y la letra que está en la posicion 7 es la letra: \",posiciones_7)"
   ]
  },
  {
   "cell_type": "raw",
   "id": "463d5652-73eb-4a6e-8efb-f9df51f41d7f",
   "metadata": {},
   "source": [
    "7. Unha xoguetería ten moito éxito en dous dos seus produtos:\n",
    "pallasos e bonecas. Adoita facer venda por correo e a\n",
    "empresa de loxística cóbralles por peso de cada paquete así\n",
    "que deben calcular o peso dos pallasos e bonecas que sairán\n",
    "en cada paquete a demanda. Cada pallaso pesa 112 g e cada\n",
    "boneca 75 g. Escribir un programa que lea o número de\n",
    "pallasos e bonecas vendidos no último pedido e calcule o\n",
    "peso total en kg do paquete que será enviado e o prezo\n",
    "sendo a tarifa de 3,5 €/kg."
   ]
  },
  {
   "cell_type": "code",
   "execution_count": 1,
   "id": "bb02b2ba-6bde-4a47-b068-bf4bb1c6ce63",
   "metadata": {
    "tags": []
   },
   "outputs": [
    {
     "name": "stdin",
     "output_type": "stream",
     "text": [
      "Cuantos pallasos vas a vender? 10\n",
      "Cuantas bonecas vas a vender? 10\n"
     ]
    },
    {
     "name": "stdout",
     "output_type": "stream",
     "text": [
      "peso de los pallasos:  0.75 kg, peso de las bonecas:  1.12 kg\n",
      "El precio que nos saldria enviar 10.0 pallasos y las 10.0 bonecas es de: 6.545 €\n"
     ]
    }
   ],
   "source": [
    "pallasos = float(input(\"Cuantos pallasos vas a vender?\"))\n",
    "bonecas = float(input(\"Cuantas bonecas vas a vender?\"))\n",
    "peso_pallasos = (75 * pallasos)/1000\n",
    "peso_bonecas = (112 * bonecas)/1000\n",
    "print(\"peso de los pallasos: \",peso_pallasos, \"kg, peso de las bonecas: \",peso_bonecas,\"kg\")\n",
    "precio = (peso_pallasos+peso_bonecas)*3.5\n",
    "precio = round(precio,3)\n",
    "print(f\"El precio que nos saldria enviar {pallasos} pallasos y las {bonecas} bonecas es de: {precio} €\")"
   ]
  },
  {
   "cell_type": "code",
   "execution_count": null,
   "id": "02602d3e-bcd4-4197-a5d3-8296b4c2070c",
   "metadata": {},
   "outputs": [],
   "source": []
  }
 ],
 "metadata": {
  "kernelspec": {
   "display_name": "Python 3 (ipykernel)",
   "language": "python",
   "name": "python3"
  },
  "language_info": {
   "codemirror_mode": {
    "name": "ipython",
    "version": 3
   },
   "file_extension": ".py",
   "mimetype": "text/x-python",
   "name": "python",
   "nbconvert_exporter": "python",
   "pygments_lexer": "ipython3",
   "version": "3.11.3"
  }
 },
 "nbformat": 4,
 "nbformat_minor": 5
}
