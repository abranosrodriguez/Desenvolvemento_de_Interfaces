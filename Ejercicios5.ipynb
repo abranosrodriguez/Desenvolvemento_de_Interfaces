{
 "cells": [
  {
   "cell_type": "markdown",
   "id": "d9f4f2bf-417c-47b4-8634-7e4770b59d18",
   "metadata": {},
   "source": [
    "## Ejercicio POO"
   ]
  },
  {
   "cell_type": "raw",
   "id": "5eca9bdc-358b-4065-b0b7-90086bcc1ac6",
   "metadata": {},
   "source": [
    "1. Crear dos clases, Libro y Autor, que estén relacionadas. La clase Libro debe tener un atributo autor, que sea una instancia de la clase Autor"
   ]
  },
  {
   "cell_type": "code",
   "execution_count": 6,
   "id": "fc1e9404-fc4e-4c93-bc3e-a572d6494ccc",
   "metadata": {
    "tags": []
   },
   "outputs": [
    {
     "name": "stdout",
     "output_type": "stream",
     "text": [
      "El Cervantes  lo escribio El Quijote  y cuesta 30,99\n"
     ]
    }
   ],
   "source": [
    "class Autor:\n",
    "    def __init__(self,nombre,nacionalidad):\n",
    "        self.nombre = nombre\n",
    "        self.nacionalidad = nacionalidad\n",
    "        \n",
    "class Libro:\n",
    "    def __init__ (self,autor,titulo,precio):\n",
    "        self.autor = autor\n",
    "        self.titulo = titulo\n",
    "        self.precio = precio\n",
    "        \n",
    "def main():\n",
    "    autor = Autor(\"Cervantes\",\"española\")\n",
    "    libro = Libro(\"El Quijote\", autor.nombre, \"30,99\")\n",
    "    print(\"El\",libro.titulo,\" lo escribio\", libro.autor,\" y cuesta\", libro.precio)\n",
    "\n",
    "if __name__ == \"__main__\":\n",
    "    main()"
   ]
  },
  {
   "cell_type": "code",
   "execution_count": 38,
   "id": "de1505ee-565f-4ff3-82c3-9373965aec7f",
   "metadata": {
    "tags": []
   },
   "outputs": [
    {
     "name": "stdout",
     "output_type": "stream",
     "text": [
      "Author: Stephen King\n",
      "Title: It\n",
      "Price: 10.99\n"
     ]
    }
   ],
   "source": [
    "class Author():\n",
    "    def __init__(self, name, nationality):\n",
    "        self.name = name\n",
    "        self.nationality = nationality\n",
    "        \n",
    "class Book():\n",
    "    def __init__(self, author, title, price):\n",
    "        self.author = author\n",
    "        self.title = title\n",
    "        self.price = price    \n",
    "    \n",
    "    def printBook(self):\n",
    "        print(\"Author:\", self.author.name)\n",
    "        print(\"Title:\", self.title)\n",
    "        print(\"Price:\", self.price)\n",
    "    \n",
    "def main():\n",
    "    stephen_king = Author(\"Stephen King\", \"American\")\n",
    "    it_book = Book(stephen_king, \"It\", 10.99)\n",
    "    \n",
    "    it_book.printBook()\n",
    "    \n",
    "if __name__ == \"__main__\":\n",
    "    main()\n",
    "## By Paul"
   ]
  },
  {
   "cell_type": "raw",
   "id": "924106a0-bc17-4e47-a117-0cfb0f0505b1",
   "metadata": {},
   "source": [
    "2. Crear una clas CuentaBancaria que tenga atributos como titular, saldo y dos método para depositar y retirar dinero. Si no tiene saldo debe mostrar el mensaje “saldo insuficiente”. \n",
    "Establece un menú\n"
   ]
  },
  {
   "cell_type": "code",
   "execution_count": 18,
   "id": "f2620558-a71d-4416-9889-c2d41c37d970",
   "metadata": {
    "tags": []
   },
   "outputs": [],
   "source": [
    "class CuentaBancaria:\n",
    "    def __init__(self,titular,saldo): \n",
    "        self.titular = titular\n",
    "        self.saldo = saldo\n",
    "        \n",
    "    def sacarDinero():\n",
    "        if(cliente.saldo <= 0):\n",
    "            print(\"Saldo insuficiente\")\n",
    "        elif(cliente.saldo >=0):\n",
    "            dineroSacado = input(\"Dime cuanto dinero quieres sacar\")\n",
    "            print(f\"La cantidad de dinero sacado es de {dineroSacado}\")\n",
    "            cliente.saldo = cliente.saldo - dineroSacado\n",
    "            \n",
    "    def depositarDinero():\n",
    "        print(\"Depositando dinero\")\n",
    "        \n",
    "def main():\n",
    "    menu = 3\n",
    "    while(menu != 3):\n",
    "        menu = input(int(\"1 - Para sacar dinero: \\n 2 - Para depositar dinero \\n 3 - Para salir\"))\n",
    "        if(menu == 1):\n",
    "            print(\"Sacando dinero\")\n",
    "        elif(menu == 2):\n",
    "            print(\"Depositando dinero\")\n",
    "        elif(menu == 3):\n",
    "            print(\"Gracias por su visitar\")       \n",
    "            menu = 3\n",
    "\n",
    "            \n",
    "if __name__ == \"__main__\":\n",
    "    main()"
   ]
  },
  {
   "cell_type": "raw",
   "id": "365ea529-e1eb-44cd-9177-e334f3f86b24",
   "metadata": {},
   "source": [
    "3. Diseña una agenda de contacto con una clase Contacto que represente a una persona con atributos como nombre, dirección de correo electrónico y número de teléfono. \n",
    "Luego, crea una clase Agenda que almacene una lista de contactos y ofrezca métodos para agregar, eliminar y buscar contactos. \n",
    "Utiliza encapsulamiento para proteger los datos de contacto. \n",
    "Establece un menú"
   ]
  },
  {
   "cell_type": "code",
   "execution_count": 166,
   "id": "7bbb3850-bb03-40db-b370-65d107236f0d",
   "metadata": {
    "tags": []
   },
   "outputs": [
    {
     "name": "stdin",
     "output_type": "stream",
     "text": [
      "1 - Agregar usuarios nuevos \n",
      "2 - Eliminar un usuario \n",
      "3 - Mostrar todos los usuarios \n",
      "4 - Buscar un usuario en especifico \n",
      "5 - Salir del programa 4\n",
      "Dime el nombre del usuario que quieres buscar : ana\n"
     ]
    },
    {
     "name": "stdout",
     "output_type": "stream",
     "text": [
      "Se han encontrado los datos siguientes gracias al nombre de [ ana ] son:  ['ana', 'ana@gmail.com', '6789']\n"
     ]
    },
    {
     "name": "stdin",
     "output_type": "stream",
     "text": [
      "1 - Agregar usuarios nuevos \n",
      "2 - Eliminar un usuario \n",
      "3 - Mostrar todos los usuarios \n",
      "4 - Buscar un usuario en especifico \n",
      "5 - Salir del programa 3\n"
     ]
    },
    {
     "name": "stdout",
     "output_type": "stream",
     "text": [
      "Mostrando a los todos los usuari@s\n",
      "['maria', 'maria@gmail.com', '1234']\n",
      "['ana', 'ana@gmail.com', '6789']\n"
     ]
    },
    {
     "name": "stdin",
     "output_type": "stream",
     "text": [
      "1 - Agregar usuarios nuevos \n",
      "2 - Eliminar un usuario \n",
      "3 - Mostrar todos los usuarios \n",
      "4 - Buscar un usuario en especifico \n",
      "5 - Salir del programa 5\n"
     ]
    },
    {
     "name": "stdout",
     "output_type": "stream",
     "text": [
      "[ Saliendo del programa ]\n"
     ]
    }
   ],
   "source": [
    "class Contacto:\n",
    "    def __init__(self,nombre,correo,telefono):\n",
    "        self.nombre = nombre\n",
    "        self.correo = correo\n",
    "        self.telefono = telefono\n",
    " \n",
    "    def agregarContacto(Agenda):\n",
    "        Contacto.nombre = input(\"Dime el nombre del usuario\").lower()\n",
    "        Contacto.correo = input(\"Dime el correo del usuario\").lower()\n",
    "        Contacto.telefono = input(\"Dime el telefono del usuario\")\n",
    "        Agenda.append([Contacto.nombre,Contacto.correo,Contacto.telefono])\n",
    "        with open(\"datos.txt\", \"w\") as archivo:\n",
    "                archivo.write(\"\\n\".join(str(item) for item in Agenda))         \n",
    "        archivo.close()\n",
    "        \n",
    "        \n",
    "    def eliminarContacto(Agenda):\n",
    "        Contacto.nombre = input(\"Dime el nombre del usuario que quieres eliminar :\").lower()\n",
    "        for i in Agenda:\n",
    "            if Contacto.nombre in i:\n",
    "                Agenda.remove(i)\n",
    "                with open(\"datos.txt\", \"w\") as archivo:\n",
    "                    archivo.write(\"\\n\".join(str(item) for item in Agenda))         \n",
    "                archivo.close()\n",
    "                print(\"Usuari@ elimando correctamente\")\n",
    "                \n",
    "    def buscarContacto(Agenda):\n",
    "        Contacto.nombre = input(\"Dime el nombre del usuario que quieres buscar :\").lower()\n",
    "        for i in Agenda:\n",
    "            if Contacto.nombre in i:\n",
    "                print(\"Se han encontrado los datos siguientes gracias al nombre de [\",Contacto.nombre,\"] son: \",i)\n",
    "                \n",
    "def main():\n",
    "    user1 = Contacto(\"maria\",\"maria@gmail.com\",\"1234\")\n",
    "    user2 = Contacto(\"ana\",\"ana@gmail.com\",\"6789\")\n",
    "    Agenda = [[user1.nombre,user1.correo,user1.telefono],[user2.nombre,user2.correo,user2.telefono]]\n",
    "\n",
    "    menu = 0\n",
    "    \n",
    "    while(menu != 5):\n",
    "        menu = int(input(\"1 - Agregar usuarios nuevos \\n2 - Eliminar un usuario \\n3 - Mostrar todos los usuarios \\n4 - Buscar un usuario en especifico \\n5 - Salir del programa\"))\n",
    "        if(menu == 1):\n",
    "            Contacto.agregarContacto(Agenda)\n",
    "               \n",
    "        elif(menu == 2):\n",
    "            Contacto.eliminarContacto(Agenda)\n",
    "                    \n",
    "        elif(menu == 3):\n",
    "            print(\"Mostrando a los todos los usuari@s\")\n",
    "            for i in Agenda:\n",
    "                print(i)  \n",
    "                \n",
    "        elif(menu == 4):\n",
    "            Contacto.buscarContacto(Agenda)\n",
    "                                   \n",
    "            \n",
    "        elif(menu == 5):\n",
    "            print(\"[ Saliendo del programa ]\")\n",
    "    \n",
    "   \n",
    "                     \n",
    "    \n",
    "if __name__ == \"__main__\":\n",
    "    main()"
   ]
  },
  {
   "cell_type": "code",
   "execution_count": null,
   "id": "b147f7fd-b8aa-4ee7-8ce5-ecf7e810049f",
   "metadata": {},
   "outputs": [],
   "source": []
  },
  {
   "cell_type": "code",
   "execution_count": null,
   "id": "5b30faae-8276-4ae0-aefb-18e829768d0e",
   "metadata": {},
   "outputs": [],
   "source": []
  }
 ],
 "metadata": {
  "kernelspec": {
   "display_name": "Python 3 (ipykernel)",
   "language": "python",
   "name": "python3"
  },
  "language_info": {
   "codemirror_mode": {
    "name": "ipython",
    "version": 3
   },
   "file_extension": ".py",
   "mimetype": "text/x-python",
   "name": "python",
   "nbconvert_exporter": "python",
   "pygments_lexer": "ipython3",
   "version": "3.11.3"
  }
 },
 "nbformat": 4,
 "nbformat_minor": 5
}
