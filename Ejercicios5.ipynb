{
 "cells": [
  {
   "cell_type": "markdown",
   "id": "d9f4f2bf-417c-47b4-8634-7e4770b59d18",
   "metadata": {},
   "source": [
    "## Ejercicio POO"
   ]
  },
  {
   "cell_type": "raw",
   "id": "5eca9bdc-358b-4065-b0b7-90086bcc1ac6",
   "metadata": {},
   "source": [
    "1. Crear dos clases, Libro y Autor, que estén relacionadas. La clase Libro debe tener un atributo autor, que sea una instancia de la clase Autor"
   ]
  },
  {
   "cell_type": "code",
   "execution_count": 6,
   "id": "fc1e9404-fc4e-4c93-bc3e-a572d6494ccc",
   "metadata": {
    "tags": []
   },
   "outputs": [
    {
     "name": "stdout",
     "output_type": "stream",
     "text": [
      "El Cervantes  lo escribio El Quijote  y cuesta 30,99\n"
     ]
    }
   ],
   "source": [
    "class Autor:\n",
    "    def __init__(self,nombre,nacionalidad):\n",
    "        self.nombre = nombre\n",
    "        self.nacionalidad = nacionalidad\n",
    "        \n",
    "class Libro:\n",
    "    def __init__ (self,autor,titulo,precio):\n",
    "        self.autor = autor\n",
    "        self.titulo = titulo\n",
    "        self.precio = precio\n",
    "        \n",
    "def main():\n",
    "    autor = Autor(\"Cervantes\",\"española\")\n",
    "    libro = Libro(\"El Quijote\", autor.nombre, \"30,99\")\n",
    "    print(\"El\",libro.titulo,\" lo escribio\", libro.autor,\" y cuesta\", libro.precio)\n",
    "\n",
    "if __name__ == \"__main__\":\n",
    "    main()"
   ]
  },
  {
   "cell_type": "code",
   "execution_count": 38,
   "id": "de1505ee-565f-4ff3-82c3-9373965aec7f",
   "metadata": {
    "tags": []
   },
   "outputs": [
    {
     "name": "stdout",
     "output_type": "stream",
     "text": [
      "Author: Stephen King\n",
      "Title: It\n",
      "Price: 10.99\n"
     ]
    }
   ],
   "source": [
    "class Author():\n",
    "    def __init__(self, name, nationality):\n",
    "        self.name = name\n",
    "        self.nationality = nationality\n",
    "        \n",
    "class Book():\n",
    "    def __init__(self, author, title, price):\n",
    "        self.author = author\n",
    "        self.title = title\n",
    "        self.price = price    \n",
    "    \n",
    "    def printBook(self):\n",
    "        print(\"Author:\", self.author.name)\n",
    "        print(\"Title:\", self.title)\n",
    "        print(\"Price:\", self.price)\n",
    "    \n",
    "def main():\n",
    "    stephen_king = Author(\"Stephen King\", \"American\")\n",
    "    it_book = Book(stephen_king, \"It\", 10.99)\n",
    "    \n",
    "    it_book.printBook()\n",
    "    \n",
    "if __name__ == \"__main__\":\n",
    "    main()\n",
    "## By Paul"
   ]
  },
  {
   "cell_type": "raw",
   "id": "924106a0-bc17-4e47-a117-0cfb0f0505b1",
   "metadata": {},
   "source": [
    "2. Crear una clas CuentaBancaria que tenga atributos como titular, saldo y dos método para depositar y retirar dinero. Si no tiene saldo debe mostrar el mensaje “saldo insuficiente”. \n",
    "Establece un menú\n"
   ]
  },
  {
   "cell_type": "code",
   "execution_count": 18,
   "id": "f2620558-a71d-4416-9889-c2d41c37d970",
   "metadata": {
    "tags": []
   },
   "outputs": [],
   "source": [
    "class CuentaBancaria:\n",
    "    def __init__(self,titular,saldo): \n",
    "        self.titular = titular\n",
    "        self.saldo = saldo\n",
    "        \n",
    "    def sacarDinero():\n",
    "        if(cliente.saldo <= 0):\n",
    "            print(\"Saldo insuficiente\")\n",
    "        elif(cliente.saldo >=0):\n",
    "            dineroSacado = input(\"Dime cuanto dinero quieres sacar\")\n",
    "            print(f\"La cantidad de dinero sacado es de {dineroSacado}\")\n",
    "            cliente.saldo = cliente.saldo - dineroSacado\n",
    "            \n",
    "    def depositarDinero():\n",
    "        print(\"Depositando dinero\")\n",
    "        \n",
    "def main():\n",
    "    menu = 3\n",
    "    while(menu != 3):\n",
    "        menu = input(int(\"1 - Para sacar dinero: \\n 2 - Para depositar dinero \\n 3 - Para salir\"))\n",
    "        if(menu == 1):\n",
    "            print(\"Sacando dinero\")\n",
    "        elif(menu == 2):\n",
    "            print(\"Depositando dinero\")\n",
    "        elif(menu == 3):\n",
    "            print(\"Gracias por su visitar\")       \n",
    "            menu = 3\n",
    "\n",
    "            \n",
    "if __name__ == \"__main__\":\n",
    "    main()"
   ]
  },
  {
   "cell_type": "raw",
   "id": "365ea529-e1eb-44cd-9177-e334f3f86b24",
   "metadata": {},
   "source": [
    "3. Diseña una agenda de contacto con una clase Contacto que represente a una persona con atributos como nombre, dirección de correo electrónico y número de teléfono. \n",
    "Luego, crea una clase Agenda que almacene una lista de contactos y ofrezca métodos para agregar, eliminar y buscar contactos. \n",
    "Utiliza encapsulamiento para proteger los datos de contacto. \n",
    "Establece un menú"
   ]
  },
  {
   "cell_type": "code",
   "execution_count": 37,
   "id": "7bbb3850-bb03-40db-b370-65d107236f0d",
   "metadata": {
    "tags": []
   },
   "outputs": [
    {
     "name": "stdin",
     "output_type": "stream",
     "text": [
      "1,2,3,4 1\n",
      "Dime el nombre del usuario a\n",
      "Dime el correo del usuario b\n",
      "Dime el telefono del usuario 1\n"
     ]
    },
    {
     "ename": "NameError",
     "evalue": "name 'user' is not defined",
     "output_type": "error",
     "traceback": [
      "\u001b[0;31m---------------------------------------------------------------------------\u001b[0m",
      "\u001b[0;31mNameError\u001b[0m                                 Traceback (most recent call last)",
      "Cell \u001b[0;32mIn[37], line 39\u001b[0m\n\u001b[1;32m     33\u001b[0m             \u001b[38;5;28mprint\u001b[39m(\u001b[38;5;124m\"\u001b[39m\u001b[38;5;124mSaliendo\u001b[39m\u001b[38;5;124m\"\u001b[39m)\n\u001b[1;32m     38\u001b[0m \u001b[38;5;28;01mif\u001b[39;00m \u001b[38;5;18m__name__\u001b[39m \u001b[38;5;241m==\u001b[39m \u001b[38;5;124m\"\u001b[39m\u001b[38;5;124m__main__\u001b[39m\u001b[38;5;124m\"\u001b[39m:\n\u001b[0;32m---> 39\u001b[0m     main()\n",
      "Cell \u001b[0;32mIn[37], line 26\u001b[0m, in \u001b[0;36mmain\u001b[0;34m()\u001b[0m\n\u001b[1;32m     24\u001b[0m menu \u001b[38;5;241m=\u001b[39m \u001b[38;5;28mint\u001b[39m(\u001b[38;5;28minput\u001b[39m(\u001b[38;5;124m\"\u001b[39m\u001b[38;5;124m1,2,3,4\u001b[39m\u001b[38;5;124m\"\u001b[39m))\n\u001b[1;32m     25\u001b[0m \u001b[38;5;28;01mif\u001b[39;00m(menu \u001b[38;5;241m==\u001b[39m \u001b[38;5;241m1\u001b[39m):\n\u001b[0;32m---> 26\u001b[0m     Contacto\u001b[38;5;241m.\u001b[39magregarContacto()\n\u001b[1;32m     27\u001b[0m     \u001b[38;5;28mprint\u001b[39m(Contacto\u001b[38;5;241m.\u001b[39mnombre)\n\u001b[1;32m     28\u001b[0m \u001b[38;5;28;01melif\u001b[39;00m(menu \u001b[38;5;241m==\u001b[39m \u001b[38;5;241m2\u001b[39m):\n",
      "Cell \u001b[0;32mIn[37], line 12\u001b[0m, in \u001b[0;36mContacto.agregarContacto\u001b[0;34m()\u001b[0m\n\u001b[1;32m     10\u001b[0m Contacto\u001b[38;5;241m.\u001b[39mtelefono \u001b[38;5;241m=\u001b[39m \u001b[38;5;28minput\u001b[39m(\u001b[38;5;124m\"\u001b[39m\u001b[38;5;124mDime el telefono del usuario\u001b[39m\u001b[38;5;124m\"\u001b[39m)\n\u001b[1;32m     11\u001b[0m contador \u001b[38;5;241m=\u001b[39m \u001b[38;5;241m3\u001b[39m\n\u001b[0;32m---> 12\u001b[0m user\u001b[38;5;241m.\u001b[39mcotador \u001b[38;5;241m=\u001b[39m (Contacto\u001b[38;5;241m.\u001b[39mnombre,Contacto\u001b[38;5;241m.\u001b[39mcorreo,Contacto\u001b[38;5;241m.\u001b[39mtelefono)\n\u001b[1;32m     13\u001b[0m contador\u001b[38;5;241m+\u001b[39m\u001b[38;5;241m=\u001b[39m\u001b[38;5;241m1\u001b[39m\n",
      "\u001b[0;31mNameError\u001b[0m: name 'user' is not defined"
     ]
    }
   ],
   "source": [
    "class Contacto:\n",
    "    def __init__(self,nombre,correo,telefono):\n",
    "        self.nombre = nombre\n",
    "        self.correo = correo\n",
    "        self.telefono = telefono\n",
    "\n",
    "    def agregarContacto():\n",
    "        Contacto.nombre = input(\"Dime el nombre del usuario\")\n",
    "        Contacto.correo = input(\"Dime el correo del usuario\")\n",
    "        Contacto.telefono = input(\"Dime el telefono del usuario\")\n",
    "        contador = 3\n",
    "        user.cotador = (Contacto.nombre,Contacto.correo,Contacto.telefono)\n",
    "        contador+=1\n",
    "        \n",
    "\n",
    "def main():\n",
    "    user1 = Contacto(\"Maria\",\"maria@gmail.com\",\"1234\")\n",
    "    user2 = Contacto(\"Ana\",\"ana@gmail.com\",\"1234\")\n",
    "    \n",
    "    \n",
    "    menu = 0\n",
    "    \n",
    "    while(menu != 4):\n",
    "        menu = int(input(\"1,2,3,4\"))\n",
    "        if(menu == 1):\n",
    "            Contacto.agregarContacto()\n",
    "            print(Contacto.nombre)\n",
    "        elif(menu == 2):\n",
    "            print(\"Elimando\")\n",
    "        elif(menu == 3):\n",
    "            print(\"Buscando\")\n",
    "        elif(menu == 4):\n",
    "            print(\"Saliendo\")\n",
    "    \n",
    "   \n",
    "                     \n",
    "    \n",
    "if __name__ == \"__main__\":\n",
    "    main()"
   ]
  },
  {
   "cell_type": "code",
   "execution_count": null,
   "id": "b147f7fd-b8aa-4ee7-8ce5-ecf7e810049f",
   "metadata": {},
   "outputs": [],
   "source": []
  }
 ],
 "metadata": {
  "kernelspec": {
   "display_name": "Python 3 (ipykernel)",
   "language": "python",
   "name": "python3"
  },
  "language_info": {
   "codemirror_mode": {
    "name": "ipython",
    "version": 3
   },
   "file_extension": ".py",
   "mimetype": "text/x-python",
   "name": "python",
   "nbconvert_exporter": "python",
   "pygments_lexer": "ipython3",
   "version": "3.11.3"
  }
 },
 "nbformat": 4,
 "nbformat_minor": 5
}
